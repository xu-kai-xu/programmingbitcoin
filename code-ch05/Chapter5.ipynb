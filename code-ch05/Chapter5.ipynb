{
 "cells": [
  {
   "cell_type": "code",
   "execution_count": 1,
   "metadata": {},
   "outputs": [],
   "source": [
    "############## PLEASE RUN THIS CELL FIRST! ###################\n",
    "\n",
    "# import everything and define a test runner function\n",
    "from importlib import reload\n",
    "from helper import run\n",
    "import ecc\n",
    "import helper\n",
    "import script\n",
    "import tx"
   ]
  },
  {
   "cell_type": "markdown",
   "metadata": {},
   "source": [
    "### Exercise 1\n",
    "\n",
    "Write the version parsing part of the `parse` method that we've defined. To do this properly, you'll have to convert 4 bytes into a Little-Endian integer.\n",
    "\n",
    "#### Make [this test](/edit/code-ch05/tx.py) pass: `tx.py:TxTest:test_parse_version`"
   ]
  },
  {
   "cell_type": "code",
   "execution_count": 2,
   "metadata": {},
   "outputs": [
    {
     "name": "stderr",
     "output_type": "stream",
     "text": [
      ".\n",
      "----------------------------------------------------------------------\n",
      "Ran 1 test in 0.005s\n",
      "\n",
      "OK\n"
     ]
    }
   ],
   "source": [
    "# Exercise 1\n",
    "\n",
    "reload(tx)\n",
    "run(tx.TxTest(\"test_parse_version\"))"
   ]
  },
  {
   "cell_type": "code",
   "execution_count": 3,
   "metadata": {},
   "outputs": [
    {
     "data": {
      "text/plain": [
       "4294967296"
      ]
     },
     "execution_count": 3,
     "metadata": {},
     "output_type": "execute_result"
    }
   ],
   "source": [
    "2**32"
   ]
  },
  {
   "cell_type": "code",
   "execution_count": 4,
   "metadata": {},
   "outputs": [
    {
     "data": {
      "text/plain": [
       "100"
      ]
     },
     "execution_count": 4,
     "metadata": {},
     "output_type": "execute_result"
    }
   ],
   "source": [
    "0x64"
   ]
  },
  {
   "cell_type": "code",
   "execution_count": 5,
   "metadata": {},
   "outputs": [
    {
     "data": {
      "text/plain": [
       "256"
      ]
     },
     "execution_count": 5,
     "metadata": {},
     "output_type": "execute_result"
    }
   ],
   "source": [
    "2**8"
   ]
  },
  {
   "cell_type": "code",
   "execution_count": 6,
   "metadata": {},
   "outputs": [
    {
     "data": {
      "text/plain": [
       "65536"
      ]
     },
     "execution_count": 6,
     "metadata": {},
     "output_type": "execute_result"
    }
   ],
   "source": [
    "2**16"
   ]
  },
  {
   "cell_type": "code",
   "execution_count": 7,
   "metadata": {},
   "outputs": [
    {
     "data": {
      "text/plain": [
       "253"
      ]
     },
     "execution_count": 7,
     "metadata": {},
     "output_type": "execute_result"
    }
   ],
   "source": [
    "0xfd"
   ]
  },
  {
   "cell_type": "code",
   "execution_count": 8,
   "metadata": {},
   "outputs": [
    {
     "data": {
      "text/plain": [
       "16645888"
      ]
     },
     "execution_count": 8,
     "metadata": {},
     "output_type": "execute_result"
    }
   ],
   "source": [
    "0xfdff00"
   ]
  },
  {
   "cell_type": "code",
   "execution_count": 9,
   "metadata": {},
   "outputs": [
    {
     "data": {
      "text/plain": [
       "65280"
      ]
     },
     "execution_count": 9,
     "metadata": {},
     "output_type": "execute_result"
    }
   ],
   "source": [
    "0xff00"
   ]
  },
  {
   "cell_type": "code",
   "execution_count": 10,
   "metadata": {},
   "outputs": [
    {
     "data": {
      "text/plain": [
       "255"
      ]
     },
     "execution_count": 10,
     "metadata": {},
     "output_type": "execute_result"
    }
   ],
   "source": [
    "0xff"
   ]
  },
  {
   "cell_type": "code",
   "execution_count": 11,
   "metadata": {},
   "outputs": [
    {
     "data": {
      "text/plain": [
       "16591618"
      ]
     },
     "execution_count": 11,
     "metadata": {},
     "output_type": "execute_result"
    }
   ],
   "source": [
    "0xfd2b02"
   ]
  },
  {
   "cell_type": "code",
   "execution_count": 12,
   "metadata": {},
   "outputs": [
    {
     "data": {
      "text/plain": [
       "11010"
      ]
     },
     "execution_count": 12,
     "metadata": {},
     "output_type": "execute_result"
    }
   ],
   "source": [
    "0x2b02"
   ]
  },
  {
   "cell_type": "code",
   "execution_count": 13,
   "metadata": {},
   "outputs": [
    {
     "data": {
      "text/plain": [
       "555"
      ]
     },
     "execution_count": 13,
     "metadata": {},
     "output_type": "execute_result"
    }
   ],
   "source": [
    "0x022b"
   ]
  },
  {
   "cell_type": "code",
   "execution_count": 14,
   "metadata": {},
   "outputs": [
    {
     "data": {
      "text/plain": [
       "254"
      ]
     },
     "execution_count": 14,
     "metadata": {},
     "output_type": "execute_result"
    }
   ],
   "source": [
    "0xfe"
   ]
  },
  {
   "cell_type": "code",
   "execution_count": 15,
   "metadata": {},
   "outputs": [
    {
     "data": {
      "text/plain": [
       "1093053513984"
      ]
     },
     "execution_count": 15,
     "metadata": {},
     "output_type": "execute_result"
    }
   ],
   "source": [
    "0xfe7f110100"
   ]
  },
  {
   "cell_type": "code",
   "execution_count": 16,
   "metadata": {},
   "outputs": [
    {
     "data": {
      "text/plain": [
       "'7f110100'"
      ]
     },
     "execution_count": 16,
     "metadata": {},
     "output_type": "execute_result"
    }
   ],
   "source": [
    "n = 70015\n",
    "n.to_bytes(length=4, byteorder='little').hex()"
   ]
  },
  {
   "cell_type": "code",
   "execution_count": 17,
   "metadata": {},
   "outputs": [
    {
     "data": {
      "text/plain": [
       "'0001117f'"
      ]
     },
     "execution_count": 17,
     "metadata": {},
     "output_type": "execute_result"
    }
   ],
   "source": [
    "n = 70015\n",
    "n.to_bytes(length=4, byteorder='big').hex()"
   ]
  },
  {
   "cell_type": "code",
   "execution_count": 18,
   "metadata": {},
   "outputs": [
    {
     "data": {
      "text/plain": [
       "'6dc7ed3e60100000'"
      ]
     },
     "execution_count": 18,
     "metadata": {},
     "output_type": "execute_result"
    }
   ],
   "source": [
    "n = 18005558675309\n",
    "n.to_bytes(length=8, byteorder='little').hex()"
   ]
  },
  {
   "cell_type": "code",
   "execution_count": null,
   "metadata": {},
   "outputs": [],
   "source": []
  },
  {
   "cell_type": "code",
   "execution_count": null,
   "metadata": {},
   "outputs": [],
   "source": []
  },
  {
   "cell_type": "code",
   "execution_count": 19,
   "metadata": {},
   "outputs": [
    {
     "name": "stdout",
     "output_type": "stream",
     "text": [
      "3045022100ed81ff192e75a3fd2304004dcadb746fa5e24c5031ccfcf21320b0277457c98f02207a986d955c6e0cb35d446a89d3f56100f4d7f67801c31967743a9c8e10615bed01 0349fc4e631e3624a545de3f89f5d8684c7b8138bd94bdd531d2e213bf016b278a\n"
     ]
    }
   ],
   "source": [
    "from io import BytesIO\n",
    "from script import Script\n",
    "script_hex = ('6b483045022100ed81ff192e75a3fd2304004dcadb746fa5e24c5031ccfcf21320b0277457c98f02207a986d955c6e0cb35d446a89d3f56100f4d7f67801c31967743a9c8e10615bed01210349fc4e631e3624a545de3f89f5d8684c7b8138bd94bdd531d2e213bf016b278a')\n",
    "stream = BytesIO(bytes.fromhex(script_hex))\n",
    "script_sig = Script.parse(stream)\n",
    "print(script_sig)"
   ]
  },
  {
   "cell_type": "markdown",
   "metadata": {},
   "source": [
    "### Exercise 2\n",
    "\n",
    "Write the inputs parsing part of the `parse` method in `Tx` and the `parse` method for `TxIn`.\n",
    "\n",
    "#### Make [this test](/edit/code-ch05/tx.py) pass: `tx.py:TxTest:test_parse_inputs`"
   ]
  },
  {
   "cell_type": "code",
   "execution_count": 20,
   "metadata": {},
   "outputs": [
    {
     "name": "stderr",
     "output_type": "stream",
     "text": [
      ".\n",
      "----------------------------------------------------------------------\n",
      "Ran 1 test in 0.003s\n",
      "\n",
      "OK\n"
     ]
    }
   ],
   "source": [
    "# Exercise 2\n",
    "\n",
    "reload(tx)\n",
    "run(tx.TxTest(\"test_parse_inputs\"))"
   ]
  },
  {
   "cell_type": "markdown",
   "metadata": {},
   "source": [
    "### Exercise 3\n",
    "\n",
    "Write the outputs parsing part of the `parse` method in `Tx` and the `parse` method for `TxOut`.\n",
    "\n",
    "#### Make [this test](/edit/code-ch05/tx.py) pass: `tx.py:TxTest:test_parse_outputs`"
   ]
  },
  {
   "cell_type": "code",
   "execution_count": 21,
   "metadata": {},
   "outputs": [
    {
     "name": "stderr",
     "output_type": "stream",
     "text": [
      ".\n",
      "----------------------------------------------------------------------\n",
      "Ran 1 test in 0.003s\n",
      "\n",
      "OK\n"
     ]
    }
   ],
   "source": [
    "# Exercise 3\n",
    "\n",
    "reload(tx)\n",
    "run(tx.TxTest(\"test_parse_outputs\"))"
   ]
  },
  {
   "cell_type": "markdown",
   "metadata": {},
   "source": [
    "### Exercise 4\n",
    "\n",
    "Write the Locktime parsing part of the `parse` method in `Tx`.\n",
    "\n",
    "#### Make [this test](/edit/code-ch05/tx.py) pass: `tx.py:TxTest:test_parse_locktime`"
   ]
  },
  {
   "cell_type": "code",
   "execution_count": 22,
   "metadata": {},
   "outputs": [
    {
     "name": "stderr",
     "output_type": "stream",
     "text": [
      ".\n",
      "----------------------------------------------------------------------\n",
      "Ran 1 test in 0.003s\n",
      "\n",
      "OK\n"
     ]
    }
   ],
   "source": [
    "# Exercise 4\n",
    "\n",
    "#reload(tx)\n",
    "run(tx.TxTest(\"test_parse_locktime\"))"
   ]
  },
  {
   "cell_type": "markdown",
   "metadata": {},
   "source": [
    "### Exercise 5\n",
    "\n",
    "What is the ScriptSig from the second input, ScriptPubKey from the first output and the amount of the second output for this transaction?\n",
    "\n",
    "```\n",
    "010000000456919960ac691763688d3d3bcea9ad6ecaf875df5339e148a1fc61c6ed7a069e0100\n",
    "00006a47304402204585bcdef85e6b1c6af5c2669d4830ff86e42dd205c0e089bc2a821657e951\n",
    "c002201024a10366077f87d6bce1f7100ad8cfa8a064b39d4e8fe4ea13a7b71aa8180f012102f0\n",
    "da57e85eec2934a82a585ea337ce2f4998b50ae699dd79f5880e253dafafb7feffffffeb8f51f4\n",
    "038dc17e6313cf831d4f02281c2a468bde0fafd37f1bf882729e7fd3000000006a473044022078\n",
    "99531a52d59a6de200179928ca900254a36b8dff8bb75f5f5d71b1cdc26125022008b422690b84\n",
    "61cb52c3cc30330b23d574351872b7c361e9aae3649071c1a7160121035d5c93d9ac96881f19ba\n",
    "1f686f15f009ded7c62efe85a872e6a19b43c15a2937feffffff567bf40595119d1bb8a3037c35\n",
    "6efd56170b64cbcc160fb028fa10704b45d775000000006a47304402204c7c7818424c7f7911da\n",
    "6cddc59655a70af1cb5eaf17c69dadbfc74ffa0b662f02207599e08bc8023693ad4e9527dc42c3\n",
    "4210f7a7d1d1ddfc8492b654a11e7620a0012102158b46fbdff65d0172b7989aec8850aa0dae49\n",
    "abfb84c81ae6e5b251a58ace5cfeffffffd63a5e6c16e620f86f375925b21cabaf736c779f88fd\n",
    "04dcad51d26690f7f345010000006a47304402200633ea0d3314bea0d95b3cd8dadb2ef79ea833\n",
    "1ffe1e61f762c0f6daea0fabde022029f23b3e9c30f080446150b23852028751635dcee2be669c\n",
    "2a1686a4b5edf304012103ffd6f4a67e94aba353a00882e563ff2722eb4cff0ad6006e86ee20df\n",
    "e7520d55feffffff0251430f00000000001976a914ab0c0b2e98b1ab6dbf67d4750b0a56244948\n",
    "a87988ac005a6202000000001976a9143c82d7df364eb6c75be8c80df2b3eda8db57397088ac46\n",
    "430600\n",
    "```"
   ]
  },
  {
   "cell_type": "code",
   "execution_count": 1,
   "metadata": {},
   "outputs": [],
   "source": [
    "# Exercise 5\n",
    "\n",
    "from io import BytesIO\n",
    "from tx import Tx\n",
    "\n",
    "hex_transaction = '010000000456919960ac691763688d3d3bcea9ad6ecaf875df5339e148a1fc61c6ed7a069e010000006a47304402204585bcdef85e6b1c6af5c2669d4830ff86e42dd205c0e089bc2a821657e951c002201024a10366077f87d6bce1f7100ad8cfa8a064b39d4e8fe4ea13a7b71aa8180f012102f0da57e85eec2934a82a585ea337ce2f4998b50ae699dd79f5880e253dafafb7feffffffeb8f51f4038dc17e6313cf831d4f02281c2a468bde0fafd37f1bf882729e7fd3000000006a47304402207899531a52d59a6de200179928ca900254a36b8dff8bb75f5f5d71b1cdc26125022008b422690b8461cb52c3cc30330b23d574351872b7c361e9aae3649071c1a7160121035d5c93d9ac96881f19ba1f686f15f009ded7c62efe85a872e6a19b43c15a2937feffffff567bf40595119d1bb8a3037c356efd56170b64cbcc160fb028fa10704b45d775000000006a47304402204c7c7818424c7f7911da6cddc59655a70af1cb5eaf17c69dadbfc74ffa0b662f02207599e08bc8023693ad4e9527dc42c34210f7a7d1d1ddfc8492b654a11e7620a0012102158b46fbdff65d0172b7989aec8850aa0dae49abfb84c81ae6e5b251a58ace5cfeffffffd63a5e6c16e620f86f375925b21cabaf736c779f88fd04dcad51d26690f7f345010000006a47304402200633ea0d3314bea0d95b3cd8dadb2ef79ea8331ffe1e61f762c0f6daea0fabde022029f23b3e9c30f080446150b23852028751635dcee2be669c2a1686a4b5edf304012103ffd6f4a67e94aba353a00882e563ff2722eb4cff0ad6006e86ee20dfe7520d55feffffff0251430f00000000001976a914ab0c0b2e98b1ab6dbf67d4750b0a56244948a87988ac005a6202000000001976a9143c82d7df364eb6c75be8c80df2b3eda8db57397088ac46430600'\n",
    "\n",
    "# convert the hex_transaction to binary\n",
    "# create a stream using BytesIO\n",
    "# use Tx.parse to get the transaction object.\n",
    "# ScriptSig from second input\n",
    "# ScriptPubKey from first output\n",
    "# Amount from second output"
   ]
  },
  {
   "cell_type": "code",
   "execution_count": 6,
   "metadata": {},
   "outputs": [],
   "source": [
    "hex_transaction = '010000000456919960ac691763688d3d3bcea9ad6ecaf875df5339e\\\n",
    "148a1fc61c6ed7a069e010000006a47304402204585bcdef85e6b1c6af5c2669d4830ff86e42dd\\\n",
    "205c0e089bc2a821657e951c002201024a10366077f87d6bce1f7100ad8cfa8a064b39d4e8fe4e\\\n",
    "a13a7b71aa8180f012102f0da57e85eec2934a82a585ea337ce2f4998b50ae699dd79f5880e253\\\n",
    "dafafb7feffffffeb8f51f4038dc17e6313cf831d4f02281c2a468bde0fafd37f1bf882729e7fd\\\n",
    "3000000006a47304402207899531a52d59a6de200179928ca900254a36b8dff8bb75f5f5d71b1c\\\n",
    "dc26125022008b422690b8461cb52c3cc30330b23d574351872b7c361e9aae3649071c1a716012\\\n",
    "1035d5c93d9ac96881f19ba1f686f15f009ded7c62efe85a872e6a19b43c15a2937feffffff567\\\n",
    "bf40595119d1bb8a3037c356efd56170b64cbcc160fb028fa10704b45d775000000006a4730440\\\n",
    "2204c7c7818424c7f7911da6cddc59655a70af1cb5eaf17c69dadbfc74ffa0b662f02207599e08\\\n",
    "bc8023693ad4e9527dc42c34210f7a7d1d1ddfc8492b654a11e7620a0012102158b46fbdff65d0\\\n",
    "172b7989aec8850aa0dae49abfb84c81ae6e5b251a58ace5cfeffffffd63a5e6c16e620f86f375\\\n",
    "925b21cabaf736c779f88fd04dcad51d26690f7f345010000006a47304402200633ea0d3314bea\\\n",
    "0d95b3cd8dadb2ef79ea8331ffe1e61f762c0f6daea0fabde022029f23b3e9c30f080446150b23\\\n",
    "852028751635dcee2be669c2a1686a4b5edf304012103ffd6f4a67e94aba353a00882e563ff272\\\n",
    "2eb4cff0ad6006e86ee20dfe7520d55feffffff0251430f00000000001976a914ab0c0b2e98b1a\\\n",
    "b6dbf67d4750b0a56244948a87988ac005a6202000000001976a9143c82d7df364eb6c75be8c80\\\n",
    "df2b3eda8db57397088ac46430600'\n"
   ]
  },
  {
   "cell_type": "code",
   "execution_count": 9,
   "metadata": {},
   "outputs": [
    {
     "data": {
      "text/plain": [
       "<_io.BytesIO at 0x2317b0cf308>"
      ]
     },
     "execution_count": 9,
     "metadata": {},
     "output_type": "execute_result"
    }
   ],
   "source": [
    "stream = BytesIO(bytes.fromhex(hex_transaction))\n",
    "stream"
   ]
  },
  {
   "cell_type": "code",
   "execution_count": 3,
   "metadata": {},
   "outputs": [],
   "source": [
    "s = stream.read()"
   ]
  },
  {
   "cell_type": "code",
   "execution_count": 4,
   "metadata": {
    "scrolled": true
   },
   "outputs": [
    {
     "data": {
      "text/plain": [
       "'010000000456919960ac691763688d3d3bcea9ad6ecaf875df5339e148a1fc61c6ed7a069e010000006a47304402204585bcdef85e6b1c6af5c2669d4830ff86e42dd205c0e089bc2a821657e951c002201024a10366077f87d6bce1f7100ad8cfa8a064b39d4e8fe4ea13a7b71aa8180f012102f0da57e85eec2934a82a585ea337ce2f4998b50ae699dd79f5880e253dafafb7feffffffeb8f51f4038dc17e6313cf831d4f02281c2a468bde0fafd37f1bf882729e7fd3000000006a47304402207899531a52d59a6de200179928ca900254a36b8dff8bb75f5f5d71b1cdc26125022008b422690b8461cb52c3cc30330b23d574351872b7c361e9aae3649071c1a7160121035d5c93d9ac96881f19ba1f686f15f009ded7c62efe85a872e6a19b43c15a2937feffffff567bf40595119d1bb8a3037c356efd56170b64cbcc160fb028fa10704b45d775000000006a47304402204c7c7818424c7f7911da6cddc59655a70af1cb5eaf17c69dadbfc74ffa0b662f02207599e08bc8023693ad4e9527dc42c34210f7a7d1d1ddfc8492b654a11e7620a0012102158b46fbdff65d0172b7989aec8850aa0dae49abfb84c81ae6e5b251a58ace5cfeffffffd63a5e6c16e620f86f375925b21cabaf736c779f88fd04dcad51d26690f7f345010000006a47304402200633ea0d3314bea0d95b3cd8dadb2ef79ea8331ffe1e61f762c0f6daea0fabde022029f23b3e9c30f080446150b23852028751635dcee2be669c2a1686a4b5edf304012103ffd6f4a67e94aba353a00882e563ff2722eb4cff0ad6006e86ee20dfe7520d55feffffff0251430f00000000001976a914ab0c0b2e98b1ab6dbf67d4750b0a56244948a87988ac005a6202000000001976a9143c82d7df364eb6c75be8c80df2b3eda8db57397088ac46430600'"
      ]
     },
     "execution_count": 4,
     "metadata": {},
     "output_type": "execute_result"
    }
   ],
   "source": [
    "s.hex()"
   ]
  },
  {
   "cell_type": "code",
   "execution_count": 10,
   "metadata": {},
   "outputs": [
    {
     "data": {
      "text/plain": [
       "tx: ee51510d7bbabe28052038d1deb10c03ec74f06a79e21913c6fcf48d56217c87\n",
       "version: 1\n",
       "tx_ins:\n",
       "9e067aedc661fca148e13953df75f8ca6eada9ce3b3d8d68631769ac60999156:1\n",
       "d37f9e7282f81b7fd3af0fde8b462a1c28024f1d83cf13637ec18d03f4518feb:0\n",
       "75d7454b7010fa28b00f16cccb640b1756fd6e357c03a3b81b9d119505f47b56:0\n",
       "45f3f79066d251addc04fd889f776c73afab1cb22559376ff820e6166c5e3ad6:1\n",
       "tx_outs:\n",
       "1000273:OP_DUP OP_HASH160 ab0c0b2e98b1ab6dbf67d4750b0a56244948a879 OP_EQUALVERIFY OP_CHECKSIG\n",
       "40000000:OP_DUP OP_HASH160 3c82d7df364eb6c75be8c80df2b3eda8db573970 OP_EQUALVERIFY OP_CHECKSIG\n",
       "locktime: 410438"
      ]
     },
     "execution_count": 10,
     "metadata": {},
     "output_type": "execute_result"
    }
   ],
   "source": [
    "tx_obj = Tx.parse(stream)\n",
    "tx_obj"
   ]
  },
  {
   "cell_type": "code",
   "execution_count": 11,
   "metadata": {},
   "outputs": [
    {
     "data": {
      "text/plain": [
       "304402204585bcdef85e6b1c6af5c2669d4830ff86e42dd205c0e089bc2a821657e951c002201024a10366077f87d6bce1f7100ad8cfa8a064b39d4e8fe4ea13a7b71aa8180f01 02f0da57e85eec2934a82a585ea337ce2f4998b50ae699dd79f5880e253dafafb7"
      ]
     },
     "execution_count": 11,
     "metadata": {},
     "output_type": "execute_result"
    }
   ],
   "source": [
    "tx_obj.tx_ins[0].script_sig"
   ]
  },
  {
   "cell_type": "code",
   "execution_count": 12,
   "metadata": {},
   "outputs": [
    {
     "data": {
      "text/plain": [
       "b'\\x9e\\x06z\\xed\\xc6a\\xfc\\xa1H\\xe19S\\xdfu\\xf8\\xcan\\xad\\xa9\\xce;=\\x8dhc\\x17i\\xac`\\x99\\x91V'"
      ]
     },
     "execution_count": 12,
     "metadata": {},
     "output_type": "execute_result"
    }
   ],
   "source": [
    "tx_obj.tx_ins[0].prev_tx"
   ]
  },
  {
   "cell_type": "code",
   "execution_count": null,
   "metadata": {},
   "outputs": [],
   "source": []
  },
  {
   "cell_type": "code",
   "execution_count": 13,
   "metadata": {},
   "outputs": [
    {
     "data": {
      "text/plain": [
       "1"
      ]
     },
     "execution_count": 13,
     "metadata": {},
     "output_type": "execute_result"
    }
   ],
   "source": [
    "tx_obj.tx_ins[0].prev_index"
   ]
  },
  {
   "cell_type": "code",
   "execution_count": 14,
   "metadata": {},
   "outputs": [
    {
     "data": {
      "text/plain": [
       "b'\\xfe\\xff\\xff\\xff'"
      ]
     },
     "execution_count": 14,
     "metadata": {},
     "output_type": "execute_result"
    }
   ],
   "source": [
    "tx_obj.tx_ins[0].sequence.to_bytes(4, 'little')"
   ]
  },
  {
   "cell_type": "code",
   "execution_count": 15,
   "metadata": {},
   "outputs": [
    {
     "data": {
      "text/plain": [
       "9e067aedc661fca148e13953df75f8ca6eada9ce3b3d8d68631769ac60999156:1"
      ]
     },
     "execution_count": 15,
     "metadata": {},
     "output_type": "execute_result"
    }
   ],
   "source": [
    "tx_obj.tx_ins[0]"
   ]
  },
  {
   "cell_type": "code",
   "execution_count": 16,
   "metadata": {},
   "outputs": [
    {
     "data": {
      "text/plain": [
       "304402207899531a52d59a6de200179928ca900254a36b8dff8bb75f5f5d71b1cdc26125022008b422690b8461cb52c3cc30330b23d574351872b7c361e9aae3649071c1a71601 035d5c93d9ac96881f19ba1f686f15f009ded7c62efe85a872e6a19b43c15a2937"
      ]
     },
     "execution_count": 16,
     "metadata": {},
     "output_type": "execute_result"
    }
   ],
   "source": [
    "tx_obj.tx_ins[1].script_sig"
   ]
  },
  {
   "cell_type": "code",
   "execution_count": 17,
   "metadata": {},
   "outputs": [
    {
     "data": {
      "text/plain": [
       "304402204c7c7818424c7f7911da6cddc59655a70af1cb5eaf17c69dadbfc74ffa0b662f02207599e08bc8023693ad4e9527dc42c34210f7a7d1d1ddfc8492b654a11e7620a001 02158b46fbdff65d0172b7989aec8850aa0dae49abfb84c81ae6e5b251a58ace5c"
      ]
     },
     "execution_count": 17,
     "metadata": {},
     "output_type": "execute_result"
    }
   ],
   "source": [
    "tx_obj.tx_ins[2].script_sig"
   ]
  },
  {
   "cell_type": "code",
   "execution_count": 18,
   "metadata": {},
   "outputs": [
    {
     "data": {
      "text/plain": [
       "304402200633ea0d3314bea0d95b3cd8dadb2ef79ea8331ffe1e61f762c0f6daea0fabde022029f23b3e9c30f080446150b23852028751635dcee2be669c2a1686a4b5edf30401 03ffd6f4a67e94aba353a00882e563ff2722eb4cff0ad6006e86ee20dfe7520d55"
      ]
     },
     "execution_count": 18,
     "metadata": {},
     "output_type": "execute_result"
    }
   ],
   "source": [
    "tx_obj.tx_ins[3].script_sig"
   ]
  },
  {
   "cell_type": "code",
   "execution_count": 19,
   "metadata": {},
   "outputs": [
    {
     "ename": "IndexError",
     "evalue": "list index out of range",
     "output_type": "error",
     "traceback": [
      "\u001b[1;31m------------------------------------------------------------\u001b[0m",
      "\u001b[1;31mIndexError\u001b[0m                 Traceback (most recent call last)",
      "\u001b[1;32m~\\AppData\\Local\\Temp/ipykernel_2308/587655337.py\u001b[0m in \u001b[0;36m<module>\u001b[1;34m\u001b[0m\n\u001b[1;32m----> 1\u001b[1;33m \u001b[0mtx_obj\u001b[0m\u001b[1;33m.\u001b[0m\u001b[0mtx_ins\u001b[0m\u001b[1;33m[\u001b[0m\u001b[1;36m4\u001b[0m\u001b[1;33m]\u001b[0m\u001b[1;33m.\u001b[0m\u001b[0mscript_sig\u001b[0m\u001b[1;33m\u001b[0m\u001b[1;33m\u001b[0m\u001b[0m\n\u001b[0m",
      "\u001b[1;31mIndexError\u001b[0m: list index out of range"
     ]
    }
   ],
   "source": [
    "tx_obj.tx_ins[4].script_sig"
   ]
  },
  {
   "cell_type": "code",
   "execution_count": 20,
   "metadata": {},
   "outputs": [
    {
     "data": {
      "text/plain": [
       "OP_DUP OP_HASH160 ab0c0b2e98b1ab6dbf67d4750b0a56244948a879 OP_EQUALVERIFY OP_CHECKSIG"
      ]
     },
     "execution_count": 20,
     "metadata": {},
     "output_type": "execute_result"
    }
   ],
   "source": [
    "tx_obj.tx_outs[0].script_pubkey"
   ]
  },
  {
   "cell_type": "code",
   "execution_count": 21,
   "metadata": {},
   "outputs": [
    {
     "data": {
      "text/plain": [
       "40000000"
      ]
     },
     "execution_count": 21,
     "metadata": {},
     "output_type": "execute_result"
    }
   ],
   "source": [
    "tx_obj.tx_outs[1].amount"
   ]
  },
  {
   "cell_type": "code",
   "execution_count": 22,
   "metadata": {},
   "outputs": [
    {
     "data": {
      "text/plain": [
       "OP_DUP OP_HASH160 3c82d7df364eb6c75be8c80df2b3eda8db573970 OP_EQUALVERIFY OP_CHECKSIG"
      ]
     },
     "execution_count": 22,
     "metadata": {},
     "output_type": "execute_result"
    }
   ],
   "source": [
    "tx_obj.tx_outs[1].script_pubkey"
   ]
  },
  {
   "cell_type": "code",
   "execution_count": 23,
   "metadata": {},
   "outputs": [
    {
     "data": {
      "text/plain": [
       "40000000"
      ]
     },
     "execution_count": 23,
     "metadata": {},
     "output_type": "execute_result"
    }
   ],
   "source": [
    "tx_obj.tx_outs[1].amount"
   ]
  },
  {
   "cell_type": "code",
   "execution_count": 24,
   "metadata": {},
   "outputs": [
    {
     "data": {
      "text/plain": [
       "4"
      ]
     },
     "execution_count": 24,
     "metadata": {},
     "output_type": "execute_result"
    }
   ],
   "source": [
    "len(tx_obj.tx_ins)"
   ]
  },
  {
   "cell_type": "code",
   "execution_count": 25,
   "metadata": {},
   "outputs": [
    {
     "data": {
      "text/plain": [
       "tx: ee51510d7bbabe28052038d1deb10c03ec74f06a79e21913c6fcf48d56217c87\n",
       "version: 1\n",
       "tx_ins:\n",
       "9e067aedc661fca148e13953df75f8ca6eada9ce3b3d8d68631769ac60999156:1\n",
       "d37f9e7282f81b7fd3af0fde8b462a1c28024f1d83cf13637ec18d03f4518feb:0\n",
       "75d7454b7010fa28b00f16cccb640b1756fd6e357c03a3b81b9d119505f47b56:0\n",
       "45f3f79066d251addc04fd889f776c73afab1cb22559376ff820e6166c5e3ad6:1\n",
       "tx_outs:\n",
       "1000273:OP_DUP OP_HASH160 ab0c0b2e98b1ab6dbf67d4750b0a56244948a879 OP_EQUALVERIFY OP_CHECKSIG\n",
       "40000000:OP_DUP OP_HASH160 3c82d7df364eb6c75be8c80df2b3eda8db573970 OP_EQUALVERIFY OP_CHECKSIG\n",
       "locktime: 410438"
      ]
     },
     "execution_count": 25,
     "metadata": {},
     "output_type": "execute_result"
    }
   ],
   "source": [
    "tx_obj"
   ]
  },
  {
   "cell_type": "code",
   "execution_count": 26,
   "metadata": {},
   "outputs": [
    {
     "data": {
      "text/plain": [
       "<bound method Tx.id of tx: ee51510d7bbabe28052038d1deb10c03ec74f06a79e21913c6fcf48d56217c87\n",
       "version: 1\n",
       "tx_ins:\n",
       "9e067aedc661fca148e13953df75f8ca6eada9ce3b3d8d68631769ac60999156:1\n",
       "d37f9e7282f81b7fd3af0fde8b462a1c28024f1d83cf13637ec18d03f4518feb:0\n",
       "75d7454b7010fa28b00f16cccb640b1756fd6e357c03a3b81b9d119505f47b56:0\n",
       "45f3f79066d251addc04fd889f776c73afab1cb22559376ff820e6166c5e3ad6:1\n",
       "tx_outs:\n",
       "1000273:OP_DUP OP_HASH160 ab0c0b2e98b1ab6dbf67d4750b0a56244948a879 OP_EQUALVERIFY OP_CHECKSIG\n",
       "40000000:OP_DUP OP_HASH160 3c82d7df364eb6c75be8c80df2b3eda8db573970 OP_EQUALVERIFY OP_CHECKSIG\n",
       "locktime: 410438>"
      ]
     },
     "execution_count": 26,
     "metadata": {},
     "output_type": "execute_result"
    }
   ],
   "source": [
    "tx_obj.id"
   ]
  },
  {
   "cell_type": "markdown",
   "metadata": {},
   "source": [
    "### Exercise 6\n",
    "\n",
    "Write the `fee` method for the `Tx` class.\n",
    "\n",
    "#### Make [this test](/edit/code-ch05/tx.py) pass: `tx.py:TxTest:test_fee`"
   ]
  },
  {
   "cell_type": "code",
   "execution_count": 30,
   "metadata": {},
   "outputs": [
    {
     "name": "stderr",
     "output_type": "stream",
     "text": [
      ".\n",
      "----------------------------------------------------------------------\n",
      "Ran 1 test in 0.003s\n",
      "\n",
      "OK\n"
     ]
    }
   ],
   "source": [
    "# Exercise 6\n",
    "\n",
    "reload(tx)\n",
    "run(tx.TxTest(\"test_fee\"))"
   ]
  },
  {
   "cell_type": "code",
   "execution_count": 27,
   "metadata": {
    "scrolled": true
   },
   "outputs": [
    {
     "data": {
      "text/plain": [
       "b'\\x01\\x00\\x00\\x00\\x04V\\x91\\x99`\\xaci\\x17ch\\x8d=;\\xce\\xa9\\xadn\\xca\\xf8u\\xdfS9\\xe1H\\xa1\\xfca\\xc6\\xedz\\x06\\x9e\\x01\\x00\\x00\\x00jG0D\\x02 E\\x85\\xbc\\xde\\xf8^k\\x1cj\\xf5\\xc2f\\x9dH0\\xff\\x86\\xe4-\\xd2\\x05\\xc0\\xe0\\x89\\xbc*\\x82\\x16W\\xe9Q\\xc0\\x02 \\x10$\\xa1\\x03f\\x07\\x7f\\x87\\xd6\\xbc\\xe1\\xf7\\x10\\n\\xd8\\xcf\\xa8\\xa0d\\xb3\\x9dN\\x8f\\xe4\\xea\\x13\\xa7\\xb7\\x1a\\xa8\\x18\\x0f\\x01!\\x02\\xf0\\xdaW\\xe8^\\xec)4\\xa8*X^\\xa37\\xce/I\\x98\\xb5\\n\\xe6\\x99\\xddy\\xf5\\x88\\x0e%=\\xaf\\xaf\\xb7\\xfe\\xff\\xff\\xff\\xeb\\x8fQ\\xf4\\x03\\x8d\\xc1~c\\x13\\xcf\\x83\\x1dO\\x02(\\x1c*F\\x8b\\xde\\x0f\\xaf\\xd3\\x7f\\x1b\\xf8\\x82r\\x9e\\x7f\\xd3\\x00\\x00\\x00\\x00jG0D\\x02 x\\x99S\\x1aR\\xd5\\x9am\\xe2\\x00\\x17\\x99(\\xca\\x90\\x02T\\xa3k\\x8d\\xff\\x8b\\xb7__]q\\xb1\\xcd\\xc2a%\\x02 \\x08\\xb4\"i\\x0b\\x84a\\xcbR\\xc3\\xcc03\\x0b#\\xd5t5\\x18r\\xb7\\xc3a\\xe9\\xaa\\xe3d\\x90q\\xc1\\xa7\\x16\\x01!\\x03]\\\\\\x93\\xd9\\xac\\x96\\x88\\x1f\\x19\\xba\\x1fho\\x15\\xf0\\t\\xde\\xd7\\xc6.\\xfe\\x85\\xa8r\\xe6\\xa1\\x9bC\\xc1Z)7\\xfe\\xff\\xff\\xffV{\\xf4\\x05\\x95\\x11\\x9d\\x1b\\xb8\\xa3\\x03|5n\\xfdV\\x17\\x0bd\\xcb\\xcc\\x16\\x0f\\xb0(\\xfa\\x10pKE\\xd7u\\x00\\x00\\x00\\x00jG0D\\x02 L|x\\x18BL\\x7fy\\x11\\xdal\\xdd\\xc5\\x96U\\xa7\\n\\xf1\\xcb^\\xaf\\x17\\xc6\\x9d\\xad\\xbf\\xc7O\\xfa\\x0bf/\\x02 u\\x99\\xe0\\x8b\\xc8\\x026\\x93\\xadN\\x95\\'\\xdcB\\xc3B\\x10\\xf7\\xa7\\xd1\\xd1\\xdd\\xfc\\x84\\x92\\xb6T\\xa1\\x1ev \\xa0\\x01!\\x02\\x15\\x8bF\\xfb\\xdf\\xf6]\\x01r\\xb7\\x98\\x9a\\xec\\x88P\\xaa\\r\\xaeI\\xab\\xfb\\x84\\xc8\\x1a\\xe6\\xe5\\xb2Q\\xa5\\x8a\\xce\\\\\\xfe\\xff\\xff\\xff\\xd6:^l\\x16\\xe6 \\xf8o7Y%\\xb2\\x1c\\xab\\xafslw\\x9f\\x88\\xfd\\x04\\xdc\\xadQ\\xd2f\\x90\\xf7\\xf3E\\x01\\x00\\x00\\x00jG0D\\x02 \\x063\\xea\\r3\\x14\\xbe\\xa0\\xd9[<\\xd8\\xda\\xdb.\\xf7\\x9e\\xa83\\x1f\\xfe\\x1ea\\xf7b\\xc0\\xf6\\xda\\xea\\x0f\\xab\\xde\\x02 )\\xf2;>\\x9c0\\xf0\\x80DaP\\xb28R\\x02\\x87Qc]\\xce\\xe2\\xbef\\x9c*\\x16\\x86\\xa4\\xb5\\xed\\xf3\\x04\\x01!\\x03\\xff\\xd6\\xf4\\xa6~\\x94\\xab\\xa3S\\xa0\\x08\\x82\\xe5c\\xff\\'\"\\xebL\\xff\\n\\xd6\\x00n\\x86\\xee \\xdf\\xe7R\\rU\\xfe\\xff\\xff\\xff\\x02QC\\x0f\\x00\\x00\\x00\\x00\\x00\\x19v\\xa9\\x14\\xab\\x0c\\x0b.\\x98\\xb1\\xabm\\xbfg\\xd4u\\x0b\\nV$IH\\xa8y\\x88\\xac\\x00Zb\\x02\\x00\\x00\\x00\\x00\\x19v\\xa9\\x14<\\x82\\xd7\\xdf6N\\xb6\\xc7[\\xe8\\xc8\\r\\xf2\\xb3\\xed\\xa8\\xdbW9p\\x88\\xacFC\\x06\\x00'"
      ]
     },
     "execution_count": 27,
     "metadata": {},
     "output_type": "execute_result"
    }
   ],
   "source": [
    "s"
   ]
  },
  {
   "cell_type": "code",
   "execution_count": 28,
   "metadata": {},
   "outputs": [],
   "source": [
    "s_hex = s.hex()"
   ]
  },
  {
   "cell_type": "code",
   "execution_count": 29,
   "metadata": {},
   "outputs": [
    {
     "data": {
      "text/plain": [
       "'010000000456919960ac691763688d3d3bcea9ad6ecaf875df5339e148a1fc61c6ed7a069e010000006a47304402204585bcdef85e6b1c6af5c2669d4830ff86e42dd205c0e089bc2a821657e951c002201024a10366077f87d6bce1f7100ad8cfa8a064b39d4e8fe4ea13a7b71aa8180f012102f0da57e85eec2934a82a585ea337ce2f4998b50ae699dd79f5880e253dafafb7feffffffeb8f51f4038dc17e6313cf831d4f02281c2a468bde0fafd37f1bf882729e7fd3000000006a47304402207899531a52d59a6de200179928ca900254a36b8dff8bb75f5f5d71b1cdc26125022008b422690b8461cb52c3cc30330b23d574351872b7c361e9aae3649071c1a7160121035d5c93d9ac96881f19ba1f686f15f009ded7c62efe85a872e6a19b43c15a2937feffffff567bf40595119d1bb8a3037c356efd56170b64cbcc160fb028fa10704b45d775000000006a47304402204c7c7818424c7f7911da6cddc59655a70af1cb5eaf17c69dadbfc74ffa0b662f02207599e08bc8023693ad4e9527dc42c34210f7a7d1d1ddfc8492b654a11e7620a0012102158b46fbdff65d0172b7989aec8850aa0dae49abfb84c81ae6e5b251a58ace5cfeffffffd63a5e6c16e620f86f375925b21cabaf736c779f88fd04dcad51d26690f7f345010000006a47304402200633ea0d3314bea0d95b3cd8dadb2ef79ea8331ffe1e61f762c0f6daea0fabde022029f23b3e9c30f080446150b23852028751635dcee2be669c2a1686a4b5edf304012103ffd6f4a67e94aba353a00882e563ff2722eb4cff0ad6006e86ee20dfe7520d55feffffff0251430f00000000001976a914ab0c0b2e98b1ab6dbf67d4750b0a56244948a87988ac005a6202000000001976a9143c82d7df364eb6c75be8c80df2b3eda8db57397088ac46430600'"
      ]
     },
     "execution_count": 29,
     "metadata": {},
     "output_type": "execute_result"
    }
   ],
   "source": [
    "s_hex"
   ]
  },
  {
   "cell_type": "code",
   "execution_count": 30,
   "metadata": {},
   "outputs": [
    {
     "ename": "AttributeError",
     "evalue": "'bytes' object has no attribute 'read'",
     "output_type": "error",
     "traceback": [
      "\u001b[1;31m------------------------------------------------------------\u001b[0m",
      "\u001b[1;31mAttributeError\u001b[0m             Traceback (most recent call last)",
      "\u001b[1;32m~\\AppData\\Local\\Temp/ipykernel_2308/835338150.py\u001b[0m in \u001b[0;36m<module>\u001b[1;34m\u001b[0m\n\u001b[1;32m----> 1\u001b[1;33m \u001b[0ms\u001b[0m\u001b[1;33m.\u001b[0m\u001b[0mread\u001b[0m\u001b[1;33m(\u001b[0m\u001b[1;36m1\u001b[0m\u001b[1;33m)\u001b[0m\u001b[1;33m[\u001b[0m\u001b[1;36m0\u001b[0m\u001b[1;33m]\u001b[0m\u001b[1;33m\u001b[0m\u001b[1;33m\u001b[0m\u001b[0m\n\u001b[0m",
      "\u001b[1;31mAttributeError\u001b[0m: 'bytes' object has no attribute 'read'"
     ]
    }
   ],
   "source": [
    "s.read(1)[0]"
   ]
  },
  {
   "cell_type": "code",
   "execution_count": 31,
   "metadata": {},
   "outputs": [
    {
     "data": {
      "text/plain": [
       "b''"
      ]
     },
     "execution_count": 31,
     "metadata": {},
     "output_type": "execute_result"
    }
   ],
   "source": [
    "stream.read(1)"
   ]
  },
  {
   "cell_type": "code",
   "execution_count": 33,
   "metadata": {},
   "outputs": [
    {
     "data": {
      "text/plain": [
       "b'\\x01\\x00\\x00\\x00\\x04V\\x91\\x99`\\xaci\\x17ch\\x8d=;\\xce\\xa9\\xadn\\xca\\xf8u\\xdfS9\\xe1H\\xa1\\xfca\\xc6\\xedz\\x06\\x9e\\x01\\x00\\x00\\x00jG0D\\x02 E\\x85\\xbc\\xde\\xf8^k\\x1cj\\xf5\\xc2f\\x9dH0\\xff\\x86\\xe4-\\xd2\\x05\\xc0\\xe0\\x89\\xbc*\\x82\\x16W\\xe9Q\\xc0\\x02 \\x10$\\xa1\\x03f\\x07\\x7f\\x87\\xd6\\xbc\\xe1\\xf7\\x10\\n\\xd8\\xcf\\xa8\\xa0d\\xb3\\x9dN\\x8f\\xe4\\xea\\x13\\xa7\\xb7\\x1a\\xa8\\x18\\x0f\\x01!\\x02\\xf0\\xdaW\\xe8^\\xec)4\\xa8*X^\\xa37\\xce/I\\x98\\xb5\\n\\xe6\\x99\\xddy\\xf5\\x88\\x0e%=\\xaf\\xaf\\xb7\\xfe\\xff\\xff\\xff\\xeb\\x8fQ\\xf4\\x03\\x8d\\xc1~c\\x13\\xcf\\x83\\x1dO\\x02(\\x1c*F\\x8b\\xde\\x0f\\xaf\\xd3\\x7f\\x1b\\xf8\\x82r\\x9e\\x7f\\xd3\\x00\\x00\\x00\\x00jG0D\\x02 x\\x99S\\x1aR\\xd5\\x9am\\xe2\\x00\\x17\\x99(\\xca\\x90\\x02T\\xa3k\\x8d\\xff\\x8b\\xb7__]q\\xb1\\xcd\\xc2a%\\x02 \\x08\\xb4\"i\\x0b\\x84a\\xcbR\\xc3\\xcc03\\x0b#\\xd5t5\\x18r\\xb7\\xc3a\\xe9\\xaa\\xe3d\\x90q\\xc1\\xa7\\x16\\x01!\\x03]\\\\\\x93\\xd9\\xac\\x96\\x88\\x1f\\x19\\xba\\x1fho\\x15\\xf0\\t\\xde\\xd7\\xc6.\\xfe\\x85\\xa8r\\xe6\\xa1\\x9bC\\xc1Z)7\\xfe\\xff\\xff\\xffV{\\xf4\\x05\\x95\\x11\\x9d\\x1b\\xb8\\xa3\\x03|5n\\xfdV\\x17\\x0bd\\xcb\\xcc\\x16\\x0f\\xb0(\\xfa\\x10pKE\\xd7u\\x00\\x00\\x00\\x00jG0D\\x02 L|x\\x18BL\\x7fy\\x11\\xdal\\xdd\\xc5\\x96U\\xa7\\n\\xf1\\xcb^\\xaf\\x17\\xc6\\x9d\\xad\\xbf\\xc7O\\xfa\\x0bf/\\x02 u\\x99\\xe0\\x8b\\xc8\\x026\\x93\\xadN\\x95\\'\\xdcB\\xc3B\\x10\\xf7\\xa7\\xd1\\xd1\\xdd\\xfc\\x84\\x92\\xb6T\\xa1\\x1ev \\xa0\\x01!\\x02\\x15\\x8bF\\xfb\\xdf\\xf6]\\x01r\\xb7\\x98\\x9a\\xec\\x88P\\xaa\\r\\xaeI\\xab\\xfb\\x84\\xc8\\x1a\\xe6\\xe5\\xb2Q\\xa5\\x8a\\xce\\\\\\xfe\\xff\\xff\\xff\\xd6:^l\\x16\\xe6 \\xf8o7Y%\\xb2\\x1c\\xab\\xafslw\\x9f\\x88\\xfd\\x04\\xdc\\xadQ\\xd2f\\x90\\xf7\\xf3E\\x01\\x00\\x00\\x00jG0D\\x02 \\x063\\xea\\r3\\x14\\xbe\\xa0\\xd9[<\\xd8\\xda\\xdb.\\xf7\\x9e\\xa83\\x1f\\xfe\\x1ea\\xf7b\\xc0\\xf6\\xda\\xea\\x0f\\xab\\xde\\x02 )\\xf2;>\\x9c0\\xf0\\x80DaP\\xb28R\\x02\\x87Qc]\\xce\\xe2\\xbef\\x9c*\\x16\\x86\\xa4\\xb5\\xed\\xf3\\x04\\x01!\\x03\\xff\\xd6\\xf4\\xa6~\\x94\\xab\\xa3S\\xa0\\x08\\x82\\xe5c\\xff\\'\"\\xebL\\xff\\n\\xd6\\x00n\\x86\\xee \\xdf\\xe7R\\rU\\xfe\\xff\\xff\\xff\\x02QC\\x0f\\x00\\x00\\x00\\x00\\x00\\x19v\\xa9\\x14\\xab\\x0c\\x0b.\\x98\\xb1\\xabm\\xbfg\\xd4u\\x0b\\nV$IH\\xa8y\\x88\\xac\\x00Zb\\x02\\x00\\x00\\x00\\x00\\x19v\\xa9\\x14<\\x82\\xd7\\xdf6N\\xb6\\xc7[\\xe8\\xc8\\r\\xf2\\xb3\\xed\\xa8\\xdbW9p\\x88\\xacFC\\x06\\x00'"
      ]
     },
     "execution_count": 33,
     "metadata": {},
     "output_type": "execute_result"
    }
   ],
   "source": [
    "s"
   ]
  },
  {
   "cell_type": "code",
   "execution_count": 34,
   "metadata": {},
   "outputs": [
    {
     "data": {
      "text/plain": [
       "1"
      ]
     },
     "execution_count": 34,
     "metadata": {},
     "output_type": "execute_result"
    }
   ],
   "source": [
    "s[0]"
   ]
  },
  {
   "cell_type": "code",
   "execution_count": 35,
   "metadata": {},
   "outputs": [],
   "source": [
    "s = BytesIO(bytes.fromhex(hex_transaction))"
   ]
  },
  {
   "cell_type": "code",
   "execution_count": 36,
   "metadata": {},
   "outputs": [],
   "source": [
    "from helper import read_varint, little_endian_to_int\n",
    "\n",
    "version = little_endian_to_int(s.read(4))"
   ]
  },
  {
   "cell_type": "code",
   "execution_count": 37,
   "metadata": {},
   "outputs": [
    {
     "data": {
      "text/plain": [
       "1"
      ]
     },
     "execution_count": 37,
     "metadata": {},
     "output_type": "execute_result"
    }
   ],
   "source": [
    "version"
   ]
  },
  {
   "cell_type": "code",
   "execution_count": 38,
   "metadata": {},
   "outputs": [
    {
     "data": {
      "text/plain": [
       "4"
      ]
     },
     "execution_count": 38,
     "metadata": {},
     "output_type": "execute_result"
    }
   ],
   "source": [
    "num_inputs = read_varint(s)\n",
    "num_inputs"
   ]
  },
  {
   "cell_type": "code",
   "execution_count": 39,
   "metadata": {},
   "outputs": [],
   "source": [
    "from tx import TxIn"
   ]
  },
  {
   "cell_type": "code",
   "execution_count": 40,
   "metadata": {},
   "outputs": [],
   "source": [
    "inputs = []\n",
    "for _ in range(num_inputs):\n",
    "    inputs.append(TxIn.parse(s))"
   ]
  },
  {
   "cell_type": "code",
   "execution_count": 41,
   "metadata": {},
   "outputs": [
    {
     "data": {
      "text/plain": [
       "[9e067aedc661fca148e13953df75f8ca6eada9ce3b3d8d68631769ac60999156:1,\n",
       " d37f9e7282f81b7fd3af0fde8b462a1c28024f1d83cf13637ec18d03f4518feb:0,\n",
       " 75d7454b7010fa28b00f16cccb640b1756fd6e357c03a3b81b9d119505f47b56:0,\n",
       " 45f3f79066d251addc04fd889f776c73afab1cb22559376ff820e6166c5e3ad6:1]"
      ]
     },
     "execution_count": 41,
     "metadata": {},
     "output_type": "execute_result"
    }
   ],
   "source": [
    "inputs"
   ]
  },
  {
   "cell_type": "code",
   "execution_count": 52,
   "metadata": {},
   "outputs": [],
   "source": [
    "s = BytesIO(bytes.fromhex(hex_transaction))\n",
    "version = little_endian_to_int(s.read(4))\n",
    "num_inputs = read_varint(s)"
   ]
  },
  {
   "cell_type": "code",
   "execution_count": 53,
   "metadata": {},
   "outputs": [
    {
     "data": {
      "text/plain": [
       "b'\\x9e\\x06z\\xed\\xc6a\\xfc\\xa1H\\xe19S\\xdfu\\xf8\\xcan\\xad\\xa9\\xce;=\\x8dhc\\x17i\\xac`\\x99\\x91V'"
      ]
     },
     "execution_count": 53,
     "metadata": {},
     "output_type": "execute_result"
    }
   ],
   "source": [
    "prev_tx = s.read(32)[::-1]\n",
    "prev_tx"
   ]
  },
  {
   "cell_type": "code",
   "execution_count": 54,
   "metadata": {},
   "outputs": [
    {
     "data": {
      "text/plain": [
       "'9e067aedc661fca148e13953df75f8ca6eada9ce3b3d8d68631769ac60999156'"
      ]
     },
     "execution_count": 54,
     "metadata": {},
     "output_type": "execute_result"
    }
   ],
   "source": [
    "prev_tx.hex()"
   ]
  },
  {
   "cell_type": "code",
   "execution_count": 55,
   "metadata": {},
   "outputs": [
    {
     "data": {
      "text/plain": [
       "b'\\x01\\x00\\x00\\x00'"
      ]
     },
     "execution_count": 55,
     "metadata": {},
     "output_type": "execute_result"
    }
   ],
   "source": [
    "s_pre_index = s.read(4)\n",
    "s_pre_index"
   ]
  },
  {
   "cell_type": "code",
   "execution_count": 56,
   "metadata": {},
   "outputs": [
    {
     "data": {
      "text/plain": [
       "1"
      ]
     },
     "execution_count": 56,
     "metadata": {},
     "output_type": "execute_result"
    }
   ],
   "source": [
    "prev_index = little_endian_to_int(s_pre_index)\n",
    "prev_index"
   ]
  },
  {
   "cell_type": "code",
   "execution_count": 47,
   "metadata": {},
   "outputs": [
    {
     "data": {
      "text/plain": [
       "304402204585bcdef85e6b1c6af5c2669d4830ff86e42dd205c0e089bc2a821657e951c002201024a10366077f87d6bce1f7100ad8cfa8a064b39d4e8fe4ea13a7b71aa8180f01 02f0da57e85eec2934a82a585ea337ce2f4998b50ae699dd79f5880e253dafafb7"
      ]
     },
     "execution_count": 47,
     "metadata": {},
     "output_type": "execute_result"
    }
   ],
   "source": [
    "from script import Script\n",
    "script_sig = Script.parse(s)\n",
    "script_sig"
   ]
  },
  {
   "cell_type": "code",
   "execution_count": 48,
   "metadata": {},
   "outputs": [
    {
     "data": {
      "text/plain": [
       "4294967294"
      ]
     },
     "execution_count": 48,
     "metadata": {},
     "output_type": "execute_result"
    }
   ],
   "source": [
    "sequence = little_endian_to_int(s.read(4))\n",
    "sequence"
   ]
  },
  {
   "cell_type": "code",
   "execution_count": 49,
   "metadata": {},
   "outputs": [
    {
     "data": {
      "text/plain": [
       "b'\\xfe\\xff\\xff\\xff'"
      ]
     },
     "execution_count": 49,
     "metadata": {},
     "output_type": "execute_result"
    }
   ],
   "source": [
    "sequence.to_bytes(4, byteorder='little')"
   ]
  },
  {
   "cell_type": "code",
   "execution_count": 50,
   "metadata": {},
   "outputs": [
    {
     "data": {
      "text/plain": [
       "'feffffff'"
      ]
     },
     "execution_count": 50,
     "metadata": {},
     "output_type": "execute_result"
    }
   ],
   "source": [
    "sequence.to_bytes(4, byteorder='little').hex()"
   ]
  },
  {
   "cell_type": "code",
   "execution_count": 57,
   "metadata": {},
   "outputs": [
    {
     "data": {
      "text/plain": [
       "b'j'"
      ]
     },
     "execution_count": 57,
     "metadata": {},
     "output_type": "execute_result"
    }
   ],
   "source": [
    "j = s.read(1)\n",
    "j"
   ]
  },
  {
   "cell_type": "code",
   "execution_count": 58,
   "metadata": {},
   "outputs": [
    {
     "data": {
      "text/plain": [
       "106"
      ]
     },
     "execution_count": 58,
     "metadata": {},
     "output_type": "execute_result"
    }
   ],
   "source": [
    "i = j[0]\n",
    "i"
   ]
  },
  {
   "cell_type": "code",
   "execution_count": 59,
   "metadata": {},
   "outputs": [
    {
     "data": {
      "text/plain": [
       "253"
      ]
     },
     "execution_count": 59,
     "metadata": {},
     "output_type": "execute_result"
    }
   ],
   "source": [
    "0xfd"
   ]
  },
  {
   "cell_type": "code",
   "execution_count": 60,
   "metadata": {},
   "outputs": [
    {
     "data": {
      "text/plain": [
       "254"
      ]
     },
     "execution_count": 60,
     "metadata": {},
     "output_type": "execute_result"
    }
   ],
   "source": [
    "0xfe"
   ]
  },
  {
   "cell_type": "code",
   "execution_count": 61,
   "metadata": {},
   "outputs": [
    {
     "data": {
      "text/plain": [
       "255"
      ]
     },
     "execution_count": 61,
     "metadata": {},
     "output_type": "execute_result"
    }
   ],
   "source": [
    "0xff"
   ]
  },
  {
   "cell_type": "code",
   "execution_count": 62,
   "metadata": {},
   "outputs": [],
   "source": [
    "length = 106"
   ]
  },
  {
   "cell_type": "code",
   "execution_count": 63,
   "metadata": {},
   "outputs": [],
   "source": [
    "cmds = []\n",
    "count = 0"
   ]
  },
  {
   "cell_type": "code",
   "execution_count": 64,
   "metadata": {},
   "outputs": [],
   "source": [
    "current = s.read(1)\n",
    "count += 1\n",
    "current_byte = current[0]"
   ]
  },
  {
   "cell_type": "code",
   "execution_count": 65,
   "metadata": {},
   "outputs": [
    {
     "data": {
      "text/plain": [
       "71"
      ]
     },
     "execution_count": 65,
     "metadata": {},
     "output_type": "execute_result"
    }
   ],
   "source": [
    "current_byte"
   ]
  },
  {
   "cell_type": "code",
   "execution_count": 66,
   "metadata": {},
   "outputs": [
    {
     "data": {
      "text/plain": [
       "bytes"
      ]
     },
     "execution_count": 66,
     "metadata": {},
     "output_type": "execute_result"
    }
   ],
   "source": [
    "type(current)"
   ]
  },
  {
   "cell_type": "code",
   "execution_count": 67,
   "metadata": {},
   "outputs": [
    {
     "data": {
      "text/plain": [
       "b'G'"
      ]
     },
     "execution_count": 67,
     "metadata": {},
     "output_type": "execute_result"
    }
   ],
   "source": [
    "current"
   ]
  },
  {
   "cell_type": "code",
   "execution_count": 68,
   "metadata": {},
   "outputs": [
    {
     "data": {
      "text/plain": [
       "1"
      ]
     },
     "execution_count": 68,
     "metadata": {},
     "output_type": "execute_result"
    }
   ],
   "source": [
    "0x01"
   ]
  },
  {
   "cell_type": "code",
   "execution_count": 69,
   "metadata": {},
   "outputs": [
    {
     "data": {
      "text/plain": [
       "75"
      ]
     },
     "execution_count": 69,
     "metadata": {},
     "output_type": "execute_result"
    }
   ],
   "source": [
    "0x4b"
   ]
  },
  {
   "cell_type": "code",
   "execution_count": 70,
   "metadata": {},
   "outputs": [],
   "source": [
    "if current_byte >= 1 and current_byte <= 75:\n",
    "    # we have an cmd set n to be the current byte\n",
    "    n = current_byte\n",
    "    # add the next n bytes as an cmd\n",
    "    tmp = s.read(n)\n",
    "    cmds.append(tmp)\n",
    "    # increase the count by n\n",
    "    count += n"
   ]
  },
  {
   "cell_type": "code",
   "execution_count": 71,
   "metadata": {},
   "outputs": [
    {
     "data": {
      "text/plain": [
       "b'0D\\x02 E\\x85\\xbc\\xde\\xf8^k\\x1cj\\xf5\\xc2f\\x9dH0\\xff\\x86\\xe4-\\xd2\\x05\\xc0\\xe0\\x89\\xbc*\\x82\\x16W\\xe9Q\\xc0\\x02 \\x10$\\xa1\\x03f\\x07\\x7f\\x87\\xd6\\xbc\\xe1\\xf7\\x10\\n\\xd8\\xcf\\xa8\\xa0d\\xb3\\x9dN\\x8f\\xe4\\xea\\x13\\xa7\\xb7\\x1a\\xa8\\x18\\x0f\\x01'"
      ]
     },
     "execution_count": 71,
     "metadata": {},
     "output_type": "execute_result"
    }
   ],
   "source": [
    "tmp"
   ]
  },
  {
   "cell_type": "code",
   "execution_count": 72,
   "metadata": {},
   "outputs": [
    {
     "data": {
      "text/plain": [
       "[b'0D\\x02 E\\x85\\xbc\\xde\\xf8^k\\x1cj\\xf5\\xc2f\\x9dH0\\xff\\x86\\xe4-\\xd2\\x05\\xc0\\xe0\\x89\\xbc*\\x82\\x16W\\xe9Q\\xc0\\x02 \\x10$\\xa1\\x03f\\x07\\x7f\\x87\\xd6\\xbc\\xe1\\xf7\\x10\\n\\xd8\\xcf\\xa8\\xa0d\\xb3\\x9dN\\x8f\\xe4\\xea\\x13\\xa7\\xb7\\x1a\\xa8\\x18\\x0f\\x01']"
      ]
     },
     "execution_count": 72,
     "metadata": {},
     "output_type": "execute_result"
    }
   ],
   "source": [
    "cmds"
   ]
  },
  {
   "cell_type": "code",
   "execution_count": 73,
   "metadata": {},
   "outputs": [
    {
     "data": {
      "text/plain": [
       "(72, 106)"
      ]
     },
     "execution_count": 73,
     "metadata": {},
     "output_type": "execute_result"
    }
   ],
   "source": [
    "count, length"
   ]
  },
  {
   "cell_type": "code",
   "execution_count": 74,
   "metadata": {},
   "outputs": [],
   "source": [
    "current = s.read(1)\n",
    "count += 1\n",
    "current_byte = current[0]"
   ]
  },
  {
   "cell_type": "code",
   "execution_count": 75,
   "metadata": {},
   "outputs": [
    {
     "data": {
      "text/plain": [
       "(33, b'!')"
      ]
     },
     "execution_count": 75,
     "metadata": {},
     "output_type": "execute_result"
    }
   ],
   "source": [
    "current_byte, current"
   ]
  },
  {
   "cell_type": "code",
   "execution_count": 76,
   "metadata": {},
   "outputs": [],
   "source": [
    "if current_byte >= 1 and current_byte <= 75:\n",
    "    # we have an cmd set n to be the current byte\n",
    "    n = current_byte\n",
    "    # add the next n bytes as an cmd\n",
    "    tmp = s.read(n)\n",
    "    cmds.append(tmp)\n",
    "    # increase the count by n\n",
    "    count += n"
   ]
  },
  {
   "cell_type": "code",
   "execution_count": 77,
   "metadata": {},
   "outputs": [
    {
     "data": {
      "text/plain": [
       "b'\\x02\\xf0\\xdaW\\xe8^\\xec)4\\xa8*X^\\xa37\\xce/I\\x98\\xb5\\n\\xe6\\x99\\xddy\\xf5\\x88\\x0e%=\\xaf\\xaf\\xb7'"
      ]
     },
     "execution_count": 77,
     "metadata": {},
     "output_type": "execute_result"
    }
   ],
   "source": [
    "tmp"
   ]
  },
  {
   "cell_type": "code",
   "execution_count": 78,
   "metadata": {},
   "outputs": [
    {
     "data": {
      "text/plain": [
       "106"
      ]
     },
     "execution_count": 78,
     "metadata": {},
     "output_type": "execute_result"
    }
   ],
   "source": [
    "count"
   ]
  },
  {
   "cell_type": "code",
   "execution_count": 79,
   "metadata": {},
   "outputs": [
    {
     "data": {
      "text/plain": [
       "[b'0D\\x02 E\\x85\\xbc\\xde\\xf8^k\\x1cj\\xf5\\xc2f\\x9dH0\\xff\\x86\\xe4-\\xd2\\x05\\xc0\\xe0\\x89\\xbc*\\x82\\x16W\\xe9Q\\xc0\\x02 \\x10$\\xa1\\x03f\\x07\\x7f\\x87\\xd6\\xbc\\xe1\\xf7\\x10\\n\\xd8\\xcf\\xa8\\xa0d\\xb3\\x9dN\\x8f\\xe4\\xea\\x13\\xa7\\xb7\\x1a\\xa8\\x18\\x0f\\x01',\n",
       " b'\\x02\\xf0\\xdaW\\xe8^\\xec)4\\xa8*X^\\xa37\\xce/I\\x98\\xb5\\n\\xe6\\x99\\xddy\\xf5\\x88\\x0e%=\\xaf\\xaf\\xb7']"
      ]
     },
     "execution_count": 79,
     "metadata": {},
     "output_type": "execute_result"
    }
   ],
   "source": [
    "cmds"
   ]
  },
  {
   "cell_type": "code",
   "execution_count": 80,
   "metadata": {},
   "outputs": [
    {
     "data": {
      "text/plain": [
       "304402204585bcdef85e6b1c6af5c2669d4830ff86e42dd205c0e089bc2a821657e951c002201024a10366077f87d6bce1f7100ad8cfa8a064b39d4e8fe4ea13a7b71aa8180f01 02f0da57e85eec2934a82a585ea337ce2f4998b50ae699dd79f5880e253dafafb7"
      ]
     },
     "execution_count": 80,
     "metadata": {},
     "output_type": "execute_result"
    }
   ],
   "source": [
    "Script(cmds)"
   ]
  },
  {
   "cell_type": "code",
   "execution_count": 81,
   "metadata": {},
   "outputs": [
    {
     "data": {
      "text/plain": [
       "[b'0D\\x02 E\\x85\\xbc\\xde\\xf8^k\\x1cj\\xf5\\xc2f\\x9dH0\\xff\\x86\\xe4-\\xd2\\x05\\xc0\\xe0\\x89\\xbc*\\x82\\x16W\\xe9Q\\xc0\\x02 \\x10$\\xa1\\x03f\\x07\\x7f\\x87\\xd6\\xbc\\xe1\\xf7\\x10\\n\\xd8\\xcf\\xa8\\xa0d\\xb3\\x9dN\\x8f\\xe4\\xea\\x13\\xa7\\xb7\\x1a\\xa8\\x18\\x0f\\x01',\n",
       " b'\\x02\\xf0\\xdaW\\xe8^\\xec)4\\xa8*X^\\xa37\\xce/I\\x98\\xb5\\n\\xe6\\x99\\xddy\\xf5\\x88\\x0e%=\\xaf\\xaf\\xb7']"
      ]
     },
     "execution_count": 81,
     "metadata": {},
     "output_type": "execute_result"
    }
   ],
   "source": [
    "cmds"
   ]
  },
  {
   "cell_type": "code",
   "execution_count": 84,
   "metadata": {},
   "outputs": [
    {
     "data": {
      "text/plain": [
       "False"
      ]
     },
     "execution_count": 84,
     "metadata": {},
     "output_type": "execute_result"
    }
   ],
   "source": [
    "type(cmds[0]) == int"
   ]
  },
  {
   "cell_type": "code",
   "execution_count": 126,
   "metadata": {},
   "outputs": [
    {
     "data": {
      "text/plain": [
       "b'0D\\x02 E\\x85\\xbc\\xde\\xf8^k\\x1cj\\xf5\\xc2f\\x9dH0\\xff\\x86\\xe4-\\xd2\\x05\\xc0\\xe0\\x89\\xbc*\\x82\\x16W\\xe9Q\\xc0\\x02 \\x10$\\xa1\\x03f\\x07\\x7f\\x87\\xd6\\xbc\\xe1\\xf7\\x10\\n\\xd8\\xcf\\xa8\\xa0d\\xb3\\x9dN\\x8f\\xe4\\xea\\x13\\xa7\\xb7\\x1a\\xa8\\x18\\x0f\\x01\\x02\\xf0\\xdaW\\xe8^\\xec)4\\xa8*X^\\xa37\\xce/I\\x98\\xb5\\n\\xe6\\x99\\xddy\\xf5\\x88\\x0e%=\\xaf\\xaf\\xb7'"
      ]
     },
     "execution_count": 126,
     "metadata": {},
     "output_type": "execute_result"
    }
   ],
   "source": [
    "cmdss = cmds[0] + cmds[1]\n",
    "cmdss"
   ]
  },
  {
   "cell_type": "code",
   "execution_count": 129,
   "metadata": {},
   "outputs": [
    {
     "name": "stdout",
     "output_type": "stream",
     "text": [
      "48 int\n",
      "68 int\n",
      "2 int\n",
      "32 int\n",
      "69 int\n",
      "133 int\n",
      "188 int\n",
      "222 int\n",
      "248 int\n",
      "94 int\n",
      "107 int\n",
      "28 int\n",
      "106 int\n",
      "245 int\n",
      "194 int\n",
      "102 int\n",
      "157 int\n",
      "72 int\n",
      "48 int\n",
      "255 int\n",
      "134 int\n",
      "228 int\n",
      "45 int\n",
      "210 int\n",
      "5 int\n",
      "192 int\n",
      "224 int\n",
      "137 int\n",
      "188 int\n",
      "42 int\n",
      "130 int\n",
      "22 int\n",
      "87 int\n",
      "233 int\n",
      "81 int\n",
      "192 int\n",
      "2 int\n",
      "32 int\n",
      "16 int\n",
      "36 int\n",
      "161 int\n",
      "3 int\n",
      "102 int\n",
      "7 int\n",
      "127 int\n",
      "135 int\n",
      "214 int\n",
      "188 int\n",
      "225 int\n",
      "247 int\n",
      "16 int\n",
      "10 int\n",
      "216 int\n",
      "207 int\n",
      "168 int\n",
      "160 int\n",
      "100 int\n",
      "179 int\n",
      "157 int\n",
      "78 int\n",
      "143 int\n",
      "228 int\n",
      "234 int\n",
      "19 int\n",
      "167 int\n",
      "183 int\n",
      "26 int\n",
      "168 int\n",
      "24 int\n",
      "15 int\n",
      "1 int\n",
      "2 int\n",
      "240 int\n",
      "218 int\n",
      "87 int\n",
      "232 int\n",
      "94 int\n",
      "236 int\n",
      "41 int\n",
      "52 int\n",
      "168 int\n",
      "42 int\n",
      "88 int\n",
      "94 int\n",
      "163 int\n",
      "55 int\n",
      "206 int\n",
      "47 int\n",
      "73 int\n",
      "152 int\n",
      "181 int\n",
      "10 int\n",
      "230 int\n",
      "153 int\n",
      "221 int\n",
      "121 int\n",
      "245 int\n",
      "136 int\n",
      "14 int\n",
      "37 int\n",
      "61 int\n",
      "175 int\n",
      "175 int\n",
      "183 int\n"
     ]
    }
   ],
   "source": [
    "for cmd in cmdss:\n",
    "    if type(cmd) == int:\n",
    "        print(cmd, 'int')\n",
    "    else:\n",
    "        print(cmd, type(cmd))"
   ]
  },
  {
   "cell_type": "code",
   "execution_count": 134,
   "metadata": {},
   "outputs": [
    {
     "name": "stdout",
     "output_type": "stream",
     "text": [
      "304402204585bcdef85e6b1c6af5c2669d4830ff86e42dd205c0e089bc2a821657e951c002201024a10366077f87d6bce1f7100ad8cfa8a064b39d4e8fe4ea13a7b71aa8180f01 02f0da57e85eec2934a82a585ea337ce2f4998b50ae699dd79f5880e253dafafb7\n"
     ]
    }
   ],
   "source": [
    " result = []\n",
    "for cmd in cmds:\n",
    "    if type(cmd) == int:\n",
    "        if OP_CODE_NAMES.get(cmd):\n",
    "            name = OP_CODE_NAMES.get(cmd)\n",
    "        else:\n",
    "            name = 'OP_[{}]'.format(cmd)\n",
    "        result.append(name)\n",
    "    else:\n",
    "        result.append(cmd.hex())\n",
    "print(' '.join(result))"
   ]
  },
  {
   "cell_type": "code",
   "execution_count": 139,
   "metadata": {},
   "outputs": [
    {
     "data": {
      "text/plain": [
       "'304402204585bcdef85e6b1c6af5c2669d4830ff86e42dd205c0e089bc2a821657e951c002201024a10366077f87d6bce1f7100ad8cfa8a064b39d4e8fe4ea13a7b71aa8180f01'"
      ]
     },
     "execution_count": 139,
     "metadata": {},
     "output_type": "execute_result"
    }
   ],
   "source": [
    "cmds[0].hex()"
   ]
  },
  {
   "cell_type": "code",
   "execution_count": 141,
   "metadata": {},
   "outputs": [
    {
     "data": {
      "text/plain": [
       "'02f0da57e85eec2934a82a585ea337ce2f4998b50ae699dd79f5880e253dafafb7'"
      ]
     },
     "execution_count": 141,
     "metadata": {},
     "output_type": "execute_result"
    }
   ],
   "source": [
    "cmds[1].hex()"
   ]
  },
  {
   "cell_type": "code",
   "execution_count": 143,
   "metadata": {},
   "outputs": [
    {
     "name": "stdout",
     "output_type": "stream",
     "text": [
      "304402204585bcdef85e6b1c6af5c2669d4830ff86e42dd205c0e089bc2a821657e951c002201024a10366077f87d6bce1f7100ad8cfa8a064b39d4e8fe4ea13a7b71aa8180f01 02f0da57e85eec2934a82a585ea337ce2f4998b50ae699dd79f5880e253dafafb7\n"
     ]
    }
   ],
   "source": [
    "result = []\n",
    "for cmd in cmds:\n",
    "    result.append(cmd.hex())\n",
    "    \n",
    "print(' '.join(result))"
   ]
  },
  {
   "cell_type": "code",
   "execution_count": 85,
   "metadata": {},
   "outputs": [
    {
     "data": {
      "text/plain": [
       "106"
      ]
     },
     "execution_count": 85,
     "metadata": {},
     "output_type": "execute_result"
    }
   ],
   "source": [
    "0x6a"
   ]
  },
  {
   "cell_type": "code",
   "execution_count": 86,
   "metadata": {},
   "outputs": [
    {
     "data": {
      "text/plain": [
       "71"
      ]
     },
     "execution_count": 86,
     "metadata": {},
     "output_type": "execute_result"
    }
   ],
   "source": [
    "0x47"
   ]
  },
  {
   "cell_type": "code",
   "execution_count": 87,
   "metadata": {},
   "outputs": [
    {
     "data": {
      "text/plain": [
       "33"
      ]
     },
     "execution_count": 87,
     "metadata": {},
     "output_type": "execute_result"
    }
   ],
   "source": [
    "0x21"
   ]
  },
  {
   "cell_type": "code",
   "execution_count": null,
   "metadata": {},
   "outputs": [],
   "source": []
  }
 ],
 "metadata": {
  "kernelspec": {
   "display_name": "Python 3 (ipykernel)",
   "language": "python",
   "name": "python3"
  },
  "language_info": {
   "codemirror_mode": {
    "name": "ipython",
    "version": 3
   },
   "file_extension": ".py",
   "mimetype": "text/x-python",
   "name": "python",
   "nbconvert_exporter": "python",
   "pygments_lexer": "ipython3",
   "version": "3.7.3"
  },
  "latex_envs": {
   "LaTeX_envs_menu_present": true,
   "autoclose": false,
   "autocomplete": true,
   "bibliofile": "biblio.bib",
   "cite_by": "apalike",
   "current_citInitial": 1,
   "eqLabelWithNumbers": true,
   "eqNumInitial": 1,
   "hotkeys": {
    "equation": "Ctrl-E",
    "itemize": "Ctrl-I"
   },
   "labels_anchors": false,
   "latex_user_defs": false,
   "report_style_numbering": false,
   "user_envs_cfg": false
  }
 },
 "nbformat": 4,
 "nbformat_minor": 2
}
